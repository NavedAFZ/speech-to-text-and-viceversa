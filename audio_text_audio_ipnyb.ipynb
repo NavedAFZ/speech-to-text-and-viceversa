{
  "nbformat": 4,
  "nbformat_minor": 0,
  "metadata": {
    "colab": {
      "name": "audio_text_audio.ipnyb",
      "provenance": []
    },
    "kernelspec": {
      "name": "python3",
      "display_name": "Python 3"
    }
  },
  "cells": [
    {
      "cell_type": "code",
      "metadata": {
        "id": "vvddMgtGqKYH",
        "colab_type": "code",
        "colab": {}
      },
      "source": [
        "import speech_recognition as s_r\n",
        "from time import ctime\n",
        "import time\n",
        "import playsound\n",
        "import os\n",
        "import webbrowser\n",
        "import random\n",
        "from  gtts import gTTS\n"
      ],
      "execution_count": 0,
      "outputs": []
    },
    {
      "cell_type": "code",
      "metadata": {
        "id": "EMYsFxBLqSC1",
        "colab_type": "code",
        "colab": {}
      },
      "source": [
        "print(s_r.__version__) # just to print the version not required\n",
        "r = s_r.Recognizer()"
      ],
      "execution_count": 0,
      "outputs": []
    },
    {
      "cell_type": "markdown",
      "metadata": {
        "id": "WOdzmtgpqfEv",
        "colab_type": "text"
      },
      "source": [
        "#For converting text to audio"
      ]
    },
    {
      "cell_type": "code",
      "metadata": {
        "id": "nv6CKtQLqYI3",
        "colab_type": "code",
        "colab": {}
      },
      "source": [
        "def alarm(audio_string):\n",
        "    tts=gTTS(text=audio_string,lang='en')\n",
        "    r=random.randint(1,100000000)\n",
        "    audio_file='audio-'+str(r)+'.mp3'\n",
        "    tts.save(audio_file)\n",
        "    playsound.playsound(audio_file)\n",
        "    print(audio_string)\n",
        "    os.remove(audio_file)\n"
      ],
      "execution_count": 0,
      "outputs": []
    },
    {
      "cell_type": "markdown",
      "metadata": {
        "id": "VW7f37jYqwTE",
        "colab_type": "text"
      },
      "source": [
        "#For converting audio to text"
      ]
    },
    {
      "cell_type": "code",
      "metadata": {
        "id": "EswXbBafqqW6",
        "colab_type": "code",
        "colab": {}
      },
      "source": [
        "def record_audio(ask=False):\n",
        "    my_mic = s_r.Microphone(device_index=1) #my device index is 1, you have to put your device index\n",
        "    with my_mic as source:\n",
        "        if ask:\n",
        "            alarm(ask)\n",
        "        r.adjust_for_ambient_noise(source)\n",
        "        audio = r.listen(source) #take voice input from the microphone\n",
        "        voice=\"\"\n",
        "        try:\n",
        "            voice=r.recognize_google(audio)\n",
        "            alarm(voice)\n",
        "        except s_r.UnknownValueError:\n",
        "            alarm('pagal ho kya')\n",
        "        except s_r.RequestError:\n",
        "            alarm('microphone error')\n",
        "    return voice"
      ],
      "execution_count": 0,
      "outputs": []
    },
    {
      "cell_type": "markdown",
      "metadata": {
        "id": "qNTShnM-r-Pj",
        "colab_type": "text"
      },
      "source": [
        "# Text to audio/ Audio to text"
      ]
    },
    {
      "cell_type": "code",
      "metadata": {
        "id": "17I2I1OJq26o",
        "colab_type": "code",
        "colab": {}
      },
      "source": [
        "def respond(v1):\n",
        "    if \"what is my name\" in v1:\n",
        "        alarm(\"naved\")\n",
        "    if  \"what is the time\" in v1:\n",
        "        alarm(ctime())\n",
        "    if \"search\" in v1:\n",
        "        find=record_audio(\"what do you want to search\")\n",
        "        url=\"https://google.com/search?q=\" +find\n",
        "        webbrowser.get().open(url)\n",
        "        alarm('here is what i found for'+ find)\n",
        "    if \"find location\" in v1:\n",
        "        loc=record_audio(\"what is your location name\")\n",
        "        url=\"https://google.nl/maps/place/\" + loc+\"&amp;\"\n",
        "        webbrowser.get().open(url)\n",
        "        alarm('here is your location' + loc)\n",
        "    if \"exit\" in v1:\n",
        "        alarm('thanks for chatting')\n",
        "\n",
        "        exit();\n"
      ],
      "execution_count": 0,
      "outputs": []
    },
    {
      "cell_type": "markdown",
      "metadata": {
        "id": "3sXq_ZeQt-Ul",
        "colab_type": "text"
      },
      "source": [
        "#Calling function"
      ]
    },
    {
      "cell_type": "code",
      "metadata": {
        "id": "BQFhs2GGuCJp",
        "colab_type": "code",
        "colab": {}
      },
      "source": [
        "print(\"say something\")\n",
        "time.sleep(1)\n",
        "while(1):\n",
        "    v1=record_audio()\n",
        "    respond(v1)"
      ],
      "execution_count": 0,
      "outputs": []
    }
  ]
}